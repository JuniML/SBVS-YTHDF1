{
 "cells": [
  {
   "cell_type": "markdown",
   "id": "1e531b59",
   "metadata": {},
   "source": [
    "# Molecules similarity based on their Morgan fingerprints"
   ]
  },
  {
   "cell_type": "markdown",
   "id": "6b35df43",
   "metadata": {},
   "source": [
    "Detail Jupyter notebook is given in our Nature Protocols paper.\n",
    "\n",
    "Please cite: Tran-Nguyen, V. K., Junaid, M., Simeon, S. & Ballester, P. J. A practical guide to machine-learning scoring for structure-based virtual screening. Nat. Protoc. (2023)\n",
    "\n",
    "This is a Jupyter notebook that helps users cluster compounds based on the similarity of their Morgan fingerprints. Please refer to our Nature Protocols paper cited above for more information.\n",
    "\n",
    "The protocol-env.yml file for setting up the environment required to run this Jupyter notebook can be found in our github repository: https://github.com/vktrannguyen/MLSF-protocol."
   ]
  },
  {
   "cell_type": "markdown",
   "id": "8cd6f28e",
   "metadata": {},
   "source": [
    "## 1. Install all required Python dependencies"
   ]
  },
  {
   "cell_type": "markdown",
   "id": "310c1c28",
   "metadata": {},
   "source": [
    "Several Python dependencies have to be installed beforehand: set up your protocol-env environment using conda and the yml file protocol-env.yml (downloaded from our github repository). "
   ]
  },
  {
   "cell_type": "code",
   "execution_count": null,
   "id": "3f684111",
   "metadata": {},
   "outputs": [],
   "source": [
    "from rdkit import DataStructs\n",
    "from rdkit import Chem\n",
    "import pandas as pd\n",
    "from rdkit.Chem.PandasTools import RenderImagesInAllDataFrames\n",
    "from rdkit.Chem import AllChem"
   ]
  },
  {
   "cell_type": "markdown",
   "id": "a44fccd9",
   "metadata": {},
   "source": [
    "## 2. Load train and test smiles"
   ]
  },
  {
   "cell_type": "code",
   "execution_count": null,
   "id": "e3b7c2cd-7c37-4a51-adcb-825118d523b6",
   "metadata": {},
   "outputs": [],
   "source": [
    "#Provide the pathway to the smi active molecules:\n",
    "active_smiles = pd.read_csv(\"pathway_to_active_smiles\")\n",
    "\n",
    "#Provide the pathway to the smi decoys molecules:\n",
    "decoys_smiles = pd.read_csv(\"pathway_to_decoys_smiles\")\n",
    "\n",
    "#Provide the pathway to the smi training molecules:\n",
    "training_smiles = pd.read_csv(\"pathway_to_training_smiles\")\n",
    "\n",
    "#Provide the pathway to the smi test molecules:\n",
    "test_smiles = pd.read_csv(\"pathway_to_test_smiles\")"
   ]
  },
  {
   "cell_type": "markdown",
   "id": "a38ba3a6-ae59-4e6c-8423-8c2aeb396323",
   "metadata": {},
   "source": [
    "## 3. Convert to mol files"
   ]
  },
  {
   "cell_type": "code",
   "execution_count": null,
   "id": "8c9f3186-4959-4c11-8a91-0d8bf569d48f",
   "metadata": {},
   "outputs": [],
   "source": [
    "mol_actives = [Chem.MolFromSmiles(x) for x in actives_smiles]\n",
    "mol_decoys = [Chem.MolFromSmiles(x) for x in decoy_smiles]\n",
    "\n",
    "mol_actives_train = [Chem.MolFromSmiles(x) for x in  training_smiles[0].to_list()]\n",
    "mol_actives_test = [Chem.MolFromSmiles(x) for x in  test_smiles[0].to_list()]\n"
   ]
  },
  {
   "cell_type": "markdown",
   "id": "b3861ae8",
   "metadata": {},
   "source": [
    "## 4. Compute the Morgan fingerprints of all input compounds "
   ]
  },
  {
   "cell_type": "code",
   "execution_count": null,
   "id": "8b66fb18",
   "metadata": {},
   "outputs": [],
   "source": [
    "# Here we compute Morgan fingerprints of radius 2, 2048 bits:\n",
    "\n",
    "fp_actives= [AllChem.GetMorganFingerprintAsBitVect(x,radius=2,nBits=2048) for x in mol_actives]\n",
    "fp_decoys = [AllChem.GetMorganFingerprintAsBitVect(x,radius=2,nBits=2048) for x in mol_decoys]\n",
    "\n",
    "fp_actives_train = [AllChem.GetMorganFingerprintAsBitVect(x,radius=2,nBits=2048) for x in mol_actives_train]\n",
    "fp_actives_test = [AllChem.GetMorganFingerprintAsBitVect(x,radius=2,nBits=2048) for x in mol_actives_test]"
   ]
  },
  {
   "cell_type": "markdown",
   "id": "5e0fa8e4",
   "metadata": {},
   "source": [
    "## 4. Calculate the Tanimoto similarity of Morgan fingerprints and create a Tanimoto similarity matrix "
   ]
  },
  {
   "cell_type": "markdown",
   "id": "7873f49f-3911-4d77-ba24-b17b73a6c92f",
   "metadata": {},
   "source": [
    "# **Actives and Decoys**"
   ]
  },
  {
   "cell_type": "code",
   "execution_count": null,
   "id": "5cddc222-6321-4e00-ad97-a79e9240e868",
   "metadata": {},
   "outputs": [],
   "source": [
    "import numpy as np\n",
    "size_x= len(fp_actives)\n",
    "size_y= len(fp_decoys)\n",
    "similarity_matrix = np.zeros((size_y, size_x))\n",
    "similarity_matrix.shape"
   ]
  },
  {
   "cell_type": "code",
   "execution_count": 39,
   "id": "c5a4803f-29f9-4bde-ab1f-a4e04316479b",
   "metadata": {},
   "outputs": [],
   "source": [
    "idx = 0\n",
    "np_fps = list()\n",
    "for fp in fp_decoys:\n",
    "    np_fp = np.zeros((1,))\n",
    "    Chem.DataStructs.ConvertToNumpyArray(fp, np_fp)\n",
    "    np_fps.append(np_fp)\n",
    "    # Calculate Tanimoto similarity\n",
    "    similarity = Chem.DataStructs.BulkTanimotoSimilarity(fp, fp_actives)\n",
    "    # Save it to similarity matrix\n",
    "    similarity_matrix[idx] = similarity\n",
    "    idx += 1"
   ]
  },
  {
   "cell_type": "code",
   "execution_count": 40,
   "id": "81912daa-d2bc-4560-b466-5977dd30e763",
   "metadata": {},
   "outputs": [],
   "source": [
    "df_similarity = pd.DataFrame(similarity_matrix)"
   ]
  },
  {
   "cell_type": "code",
   "execution_count": null,
   "id": "f1393da2-2e55-4191-a75f-9fc1d65d0334",
   "metadata": {
    "tags": []
   },
   "outputs": [],
   "source": [
    "import seaborn as sns\n",
    "import matplotlib.pyplot as plt\n",
    "sns.set(rc={'figure.figsize':(11.7,8.27)})\n",
    "fig, ax = plt.subplots(dpi=300, figsize=(7,5))\n",
    "ax = sns.heatmap(df_similarity, vmin=0, vmax=1,\n",
    "                yticklabels=False, xticklabels=False,cmap=\"coolwarm\")\n",
    "ax.set_xlabel(\"Actives (37)\", fontsize = 20)\n",
    "ax.set_ylabel(\"Decoys (1200)\", fontsize = 20)\n",
    "plt.savefig('path_to_save_png_file')"
   ]
  },
  {
   "cell_type": "markdown",
   "id": "97b92b8c-94e5-4b21-8c55-a6b13afc5425",
   "metadata": {},
   "source": [
    "# **training and test**"
   ]
  },
  {
   "cell_type": "code",
   "execution_count": null,
   "id": "5813ba73-cc40-4990-8f65-a94633d249a5",
   "metadata": {},
   "outputs": [],
   "source": [
    "import numpy as np\n",
    "size_x= len(fp_actives_test)\n",
    "size_y= len(fp_actives_train)\n",
    "similarity_matrix = np.zeros((size_x, size_y))\n",
    "similarity_matrix.shape"
   ]
  },
  {
   "cell_type": "code",
   "execution_count": null,
   "id": "dcbf2105-6546-4855-bfbd-2cdf4318536d",
   "metadata": {},
   "outputs": [],
   "source": [
    "idx = 0\n",
    "np_fps = list()\n",
    "for fp in fp_actives_test:\n",
    "    np_fp = np.zeros((1,))\n",
    "    Chem.DataStructs.ConvertToNumpyArray(fp, np_fp)\n",
    "    np_fps.append(np_fp)\n",
    "    # Calculate Tanimoto similarity\n",
    "    similarity = Chem.DataStructs.BulkTanimotoSimilarity(fp, fp_actives_train)\n",
    "    # Save it to similarity matrix\n",
    "    similarity_matrix[idx] = similarity\n",
    "    idx += 1"
   ]
  },
  {
   "cell_type": "code",
   "execution_count": null,
   "id": "ec71e5b8-6b64-4f33-ab09-e40290719e3a",
   "metadata": {},
   "outputs": [],
   "source": [
    "df_similarity = pd.DataFrame(similarity_matrix)"
   ]
  },
  {
   "cell_type": "code",
   "execution_count": null,
   "id": "86a5e655-1f8f-41a2-b945-965137531de0",
   "metadata": {},
   "outputs": [],
   "source": [
    "import seaborn as sns\n",
    "import matplotlib.pyplot as plt\n",
    "sns.set(rc={'figure.figsize':(11.7,8.27)})\n",
    "fig, ax = plt.subplots(dpi=300, figsize=(7,5))\n",
    "ax = sns.heatmap(df_similarity, vmin=0, vmax=1,\n",
    "                yticklabels=False, xticklabels=False,cmap=\"coolwarm\")\n",
    "ax.set_xlabel(\"training actives (29)\", fontsize = 20)\n",
    "ax.set_ylabel(\"test actives (8)\", fontsize = 20)\n",
    "plt.savefig('path_to_save_png_file')"
   ]
  }
 ],
 "metadata": {
  "kernelspec": {
   "display_name": "Python 3 (ipykernel)",
   "language": "python",
   "name": "python3"
  },
  "language_info": {
   "codemirror_mode": {
    "name": "ipython",
    "version": 3
   },
   "file_extension": ".py",
   "mimetype": "text/x-python",
   "name": "python",
   "nbconvert_exporter": "python",
   "pygments_lexer": "ipython3",
   "version": "3.6.7"
  }
 },
 "nbformat": 4,
 "nbformat_minor": 5
}
